{
 "cells": [
  {
   "cell_type": "code",
   "execution_count": 1,
   "metadata": {},
   "outputs": [],
   "source": [
    "from openai import OpenAI\n",
    "import pandas as pd\n",
    "from datetime import datetime\n",
    "from typing import Optional\n"
   ]
  },
  {
   "cell_type": "code",
   "execution_count": 2,
   "metadata": {},
   "outputs": [],
   "source": [
    "def df_to_str(df: pd.DataFrame, sort_by: Optional[str] = None, ascending: Optional[bool] = 1) -> str:\n",
    "    if sort_by:\n",
    "        df=df.sort_values(sort_by,ascending=1)\n",
    "    df_string = \"\"\n",
    "    for index, row in df.iterrows():\n",
    "        for col in df.columns:\n",
    "            df_string += f\"{col}: {row[col]}\\n\"\n",
    "        df_string += \"\\n\"  # Add a newline for separation between records if there are multiple rows\n",
    "    return df_string\n",
    "\n",
    "def retrieve_context_chatbot(ml_id):\n",
    "    relevant_ml_cases_info=ml_cases[ml_cases['ML_ID']==ml_id][ml_cases_cols]\n",
    "    relevant_final_rel=final_relationship[final_relationship['ML_ID']==ml_id][final_relationship_cols]\n",
    "    ml_type=ml_cases[ml_cases['ML_ID']==ml_id]['ML_type'].iloc[0]\n",
    "    context = f'''*{ml_id}*\n",
    "Terduga kasus money laundering jenis: {ml_type}\n",
    "Informasi transaksi dan keterkaitan:\n",
    "{df_to_str(relevant_final_rel,'TIMESTAMP')}\n",
    "\n",
    "Rangkuman:\n",
    "{df_to_str(relevant_ml_cases_info)}'''\n",
    "    return context"
   ]
  },
  {
   "cell_type": "code",
   "execution_count": 31,
   "metadata": {},
   "outputs": [],
   "source": [
    "#load context from table\n",
    "\n",
    "ml_cases_cols=['n_entities_involved','total_amount','ML_type']\n",
    "final_relationship_cols = ['RECEIVER_ACCOUNT', 'SENDER_ACCOUNT', 'TX_TYPE', 'TX_AMOUNT', 'TIMESTAMP']\n",
    "\n",
    "# ml_case and final_relationship as global variables\n",
    "ml_cases=pd.read_csv('ml_cases_finale2.csv')\n",
    "final_relationship=pd.read_csv('final_relationship_finale.csv')\n",
    "\n",
    "#initiate openai api here\n",
    "key_api=#censored for noe\n",
    "oai_client=OpenAI(api_key=key_api)"
   ]
  },
  {
   "cell_type": "code",
   "execution_count": 43,
   "metadata": {},
   "outputs": [],
   "source": [
    "# Load your data\n",
    "# ml_cases = pd.read_csv('ml_cases_finale2.csv')\n",
    "# final_relationship = pd.read_csv('final_relationship_v_finale.csv')\n",
    "\n",
    "ml_cases_cols = ['n_entities_involved', 'total_amount', 'ML_type']\n",
    "final_relationship_cols = ['RECEIVER_ACCOUNT', 'SENDER_ACCOUNT', 'TX_TYPE', 'TX_AMOUNT', 'TIMESTAMP']\n",
    "\n",
    "key_api = env.api_ai\n",
    "oai_client = OpenAI(api_key=key_api)\n",
    "\n",
    "class History:\n",
    "    def __init__(self):\n",
    "        self.histories = {}\n",
    "\n",
    "    def create_chat(self, chat_id):\n",
    "        if chat_id not in self.histories:\n",
    "            self.histories[chat_id] = pd.DataFrame(columns=['timestamp', 'sender', 'message'])\n",
    "\n",
    "    def append_to_chat_history(self, chat_id, sender, message):\n",
    "        if chat_id not in self.histories:\n",
    "            self.create_chat(chat_id)\n",
    "        timestamp = datetime.now().strftime('%Y-%m-%d %H:%M:%S')\n",
    "        new_entry = pd.DataFrame([[timestamp, sender, message]], columns=['timestamp', 'sender', 'message'])\n",
    "        self.histories[chat_id] = pd.concat([self.histories[chat_id], new_entry], ignore_index=True)\n",
    "\n",
    "    def get_history(self, chat_id):\n",
    "        if chat_id in self.histories:\n",
    "            return self.histories[chat_id]\n",
    "        else:\n",
    "            return pd.DataFrame(columns=['timestamp', 'sender', 'message'])\n",
    "\n",
    "    def save_to_csv(self, chat_id, filename):\n",
    "        if chat_id in self.histories:\n",
    "            self.histories[chat_id].to_csv(filename, index=False)\n",
    "\n",
    "    def load_from_csv(self, chat_id, filename):\n",
    "        self.histories[chat_id] = pd.read_csv(filename)\n",
    "\n",
    "    def history_to_string(self, chat_id):\n",
    "        if chat_id in self.histories:\n",
    "            df = self.histories[chat_id]\n",
    "            history_string = \"\"\n",
    "            for index, row in df.iterrows():\n",
    "                history_string += f\"{row['timestamp']} - {row['sender']}: {row['message']}\\n\"\n",
    "            return history_string\n",
    "        else:\n",
    "            return \"\"\n",
    "\n",
    "class Chatbot:\n",
    "    def __init__(self, ml_id, user_id):\n",
    "        self.history = History()\n",
    "        self.ml_id = ml_id\n",
    "        self.system_prompt=''\n",
    "        self.chat_id =f\"{user_id}\"\n",
    "        # f\"{user_id}_{datetime.now().strftime('%Y%m%d%H%M%S')}\"\n",
    "    def chat_with_model(self, prompt, model='gpt-4o'):\n",
    "        chat_history_str = self.history.history_to_string(self.chat_id)\n",
    "        if chat_history_str: \n",
    "            chat_history_context = f'''Berikut perbincangan pada pesan sebelumnya: {chat_history_str}'''\n",
    "        else:\n",
    "            chat_history_context = ''\n",
    "\n",
    "        system_prompt = f'''Kamu adalah asisten analis fraud dari Drovide Pivide. \n",
    "        Kamu menanggapi pertanyaan secara singkat, padat, dan jelas berdasarkan materi: \n",
    "        {retrieve_context_chatbot(self.ml_id)} dan pengetahuanmu tentang fraud di institusi finansial.\n",
    "        untuk tipe transaksi Direktur dan Komisaris maka penerimanya adalah perusahaan dan pengirimnya adalah stakeholder sesuai yang tertulis pada tipe transaksi. \n",
    "        Jangan dianggap sebagai tipe transaksi tapi sebagai hubungan stakeholder.\n",
    "        {chat_history_context}\n",
    "        '''\n",
    "\n",
    "        completion = oai_client.chat.completions.create(\n",
    "            model=model,\n",
    "            temperature=0,\n",
    "            messages=[\n",
    "                {\"role\": \"system\", \"content\": system_prompt},\n",
    "                {\"role\": \"user\", \"content\": prompt}\n",
    "            ]\n",
    "        )\n",
    "        return completion.choices[0].message.content.strip()\n",
    "    # system_prompt \n",
    "    \n",
    "\n",
    "    def add_message(self, sender, message):\n",
    "        self.history.append_to_chat_history(self.chat_id, sender, message)\n",
    "\n",
    "    # def start_conversation(self, user_id):\n",
    "    #     chat_id = f\"{user_id}_{datetime.now().strftime('%Y%m%d%H%M%S')}\"\n",
    "    #     while True:\n",
    "    #         user_input = input(\"You: \")\n",
    "    #         if user_input.lower() == 'exit':\n",
    "    #             break\n",
    "    #         assistant_response = self.chat_with_model(user_input, chat_id)\n",
    "    #         self.add_message(chat_id, 'user', user_input)\n",
    "    #         self.add_message(chat_id, 'assistant', assistant_response)\n",
    "\n",
    "    #     print(self.history.get_history(chat_id))\n",
    "    #     self.history.save_to_csv(chat_id, f'chat_history_{chat_id}.csv')\n",
    "\n",
    "def df_to_str(df: pd.DataFrame, sort_by: Optional[str] = None, ascending: Optional[bool] = 1) -> str:\n",
    "    if sort_by:\n",
    "        df = df.sort_values(sort_by, ascending=ascending)\n",
    "    df_string = \"\"\n",
    "    for index, row in df.iterrows():\n",
    "        for col in df.columns:\n",
    "            df_string += f\"{col}: {row[col]}\\n\"\n",
    "        df_string += \"\\n\"\n",
    "    return df_string\n",
    "\n",
    "def retrieve_context_chatbot(ml_id):\n",
    "    relevant_ml_cases_info = ml_cases[ml_cases['ML_ID'] == ml_id][ml_cases_cols]\n",
    "    relevant_final_rel = final_relationship[final_relationship['ML_ID'] == ml_id][final_relationship_cols]\n",
    "    ml_type = ml_cases[ml_cases['ML_ID'] == ml_id]['ML_type'].iloc[0]\n",
    "    context = f'''*{ml_id}*\n",
    "Terduga kasus money laundering jenis: {ml_type}\n",
    "Informasi transaksi dan keterkaitan:\n",
    "{df_to_str(relevant_final_rel, 'TIMESTAMP')}\n",
    "\n",
    "Rangkuman:\n",
    "{df_to_str(relevant_ml_cases_info)}'''\n",
    "    # print (df_to_str(relevant_final_rel, 'TIMESTAMP'))\n",
    "    return context\n",
    "\n",
    "\n",
    "def chat(prompt,chatbot):\n",
    "    # data = request.json\n",
    "    # user_id = data['user_id']\n",
    "    # ml_id = data['ml_id']\n",
    "    # prompt = data['prompt']\n",
    "    \n",
    "    # chat_id = f\"{user_id}_{datetime.now().strftime('%Y%m%d%H%M%S')}\"\n",
    "    \n",
    "    chatbot.add_message( 'user', prompt)\n",
    "    assistant_response = chatbot.chat_with_model(prompt)\n",
    "    chatbot.add_message( 'assistant', assistant_response)\n",
    "    \n",
    "    print(prompt)\n",
    "    print(assistant_response)\n",
    "\n",
    "   "
   ]
  },
  {
   "cell_type": "code",
   "execution_count": 44,
   "metadata": {},
   "outputs": [],
   "source": [
    "user_id = 'enjang69'  \n",
    "ml_id='cycle_1'\n",
    "chatbot = Chatbot(ml_id, user_id)"
   ]
  },
  {
   "cell_type": "code",
   "execution_count": 45,
   "metadata": {},
   "outputs": [
    {
     "name": "stdout",
     "output_type": "stream",
     "text": [
      "halo, jelasin singkat\n",
      "Kasus ini melibatkan 8 entitas dengan total transaksi sebesar 15 juta. Jenis money laundering yang terdeteksi adalah \"cycle\". Transaksi mencurigakan melibatkan perpindahan dana melalui beberapa akun, termasuk hubungan stakeholder antara Musmuliadi dan perusahaan Masa Metonia Abadi.\n"
     ]
    }
   ],
   "source": [
    "prompt='halo, jelasin singkat'\n",
    "\n",
    "chat(prompt,chatbot)"
   ]
  },
  {
   "cell_type": "code",
   "execution_count": 46,
   "metadata": {},
   "outputs": [
    {
     "name": "stdout",
     "output_type": "stream",
     "text": [
      "siapa entitas terlibat\n",
      "Entitas yang terlibat adalah:\n",
      "1. Masa Metonia Abadi\n",
      "2. Musmuliadi\n",
      "3. Asep Ramadhan\n",
      "4. Budi Prasetyo\n",
      "5. Budi Setiawan\n",
      "6. Dewi Sartika\n",
      "7. Citra Lestari\n",
      "8. Ayu Lestari\n"
     ]
    }
   ],
   "source": [
    "prompt='siapa entitas terlibat'\n",
    "\n",
    "chat(prompt,chatbot)"
   ]
  },
  {
   "cell_type": "code",
   "execution_count": 47,
   "metadata": {},
   "outputs": [
    {
     "name": "stdout",
     "output_type": "stream",
     "text": [
      "yang erusahaan\n",
      "Entitas perusahaan yang terlibat adalah Masa Metonia Abadi.\n"
     ]
    }
   ],
   "source": [
    "prompt='yang erusahaan'\n",
    "\n",
    "chat(prompt,chatbot)"
   ]
  },
  {
   "cell_type": "code",
   "execution_count": 48,
   "metadata": {},
   "outputs": [
    {
     "name": "stdout",
     "output_type": "stream",
     "text": [
      "mengirim ke siapa dia?\n",
      "Masa Metonia Abadi mengirim dana ke Citra Lestari.\n"
     ]
    }
   ],
   "source": [
    "prompt='mengirim ke siapa dia?'\n",
    "\n",
    "chat(prompt,chatbot)"
   ]
  },
  {
   "cell_type": "code",
   "execution_count": 49,
   "metadata": {},
   "outputs": [
    {
     "name": "stdout",
     "output_type": "stream",
     "text": [
      "apakah ada penerimanya\n",
      "Ya, penerima dari transaksi yang dilakukan oleh Masa Metonia Abadi adalah Citra Lestari.\n"
     ]
    }
   ],
   "source": [
    "prompt='apakah ada penerimanya'\n",
    "\n",
    "chat(prompt,chatbot)"
   ]
  },
  {
   "cell_type": "code",
   "execution_count": 50,
   "metadata": {},
   "outputs": [
    {
     "name": "stdout",
     "output_type": "stream",
     "text": [
      "apakah dia menerima?\n",
      "Tidak, Masa Metonia Abadi tidak menerima dana dalam transaksi yang tercatat. Masa Metonia Abadi hanya mengirim dana ke Citra Lestari.\n"
     ]
    }
   ],
   "source": [
    "prompt='apakah dia menerima?'\n",
    "\n",
    "chat(prompt,chatbot)"
   ]
  },
  {
   "cell_type": "code",
   "execution_count": 52,
   "metadata": {},
   "outputs": [
    {
     "name": "stdout",
     "output_type": "stream",
     "text": [
      "lalu siapa yang mennghubungkan perusahaan ini selain orang tadi\n",
      "Selain Citra Lestari, yang menghubungkan perusahaan Masa Metonia Abadi adalah Musmuliadi. Musmuliadi memiliki hubungan stakeholder dengan perusahaan tersebut.\n"
     ]
    }
   ],
   "source": [
    "prompt='lalu siapa yang mennghubungkan perusahaan ini selain orang tadi'\n",
    "\n",
    "chat(prompt,chatbot)"
   ]
  },
  {
   "cell_type": "code",
   "execution_count": null,
   "metadata": {},
   "outputs": [],
   "source": []
  },
  {
   "cell_type": "code",
   "execution_count": null,
   "metadata": {},
   "outputs": [],
   "source": []
  },
  {
   "cell_type": "code",
   "execution_count": 42,
   "metadata": {},
   "outputs": [
    {
     "name": "stdout",
     "output_type": "stream",
     "text": [
      "apakah ada penerimanya dari entitas sblmnya\n",
      "Tidak, tidak ada transaksi yang melibatkan akun dengan nama \"enjang69\" sebagai penerima.\n"
     ]
    }
   ],
   "source": [
    "prompt='apakah ada penerimanya dari entitas sblmnya'\n",
    "\n",
    "chat(prompt,chatbot)"
   ]
  },
  {
   "cell_type": "code",
   "execution_count": 30,
   "metadata": {},
   "outputs": [
    {
     "data": {
      "text/html": [
       "<div>\n",
       "<style scoped>\n",
       "    .dataframe tbody tr th:only-of-type {\n",
       "        vertical-align: middle;\n",
       "    }\n",
       "\n",
       "    .dataframe tbody tr th {\n",
       "        vertical-align: top;\n",
       "    }\n",
       "\n",
       "    .dataframe thead th {\n",
       "        text-align: right;\n",
       "    }\n",
       "</style>\n",
       "<table border=\"1\" class=\"dataframe\">\n",
       "  <thead>\n",
       "    <tr style=\"text-align: right;\">\n",
       "      <th></th>\n",
       "      <th>RECEIVER_ACCOUNT</th>\n",
       "      <th>SENDER_ACCOUNT</th>\n",
       "      <th>CURRENCY</th>\n",
       "      <th>TX_ID</th>\n",
       "      <th>TX_AMOUNT</th>\n",
       "      <th>TIMESTAMP</th>\n",
       "      <th>ML_ID</th>\n",
       "      <th>TX_TYPE</th>\n",
       "    </tr>\n",
       "  </thead>\n",
       "  <tbody>\n",
       "    <tr>\n",
       "      <th>0</th>\n",
       "      <td>Bang Windah Bersaudara</td>\n",
       "      <td>Aliya Zahra</td>\n",
       "      <td>IDR</td>\n",
       "      <td>0.0</td>\n",
       "      <td>8.528834e+07</td>\n",
       "      <td>2022-08-01 11:40:00</td>\n",
       "      <td>gather-scatter_1</td>\n",
       "      <td>wire</td>\n",
       "    </tr>\n",
       "    <tr>\n",
       "      <th>1</th>\n",
       "      <td>Bang Windah Bersaudara</td>\n",
       "      <td>Ratna Sari</td>\n",
       "      <td>IDR</td>\n",
       "      <td>3.0</td>\n",
       "      <td>9.974407e+07</td>\n",
       "      <td>2022-08-05 13:16:00</td>\n",
       "      <td>gather-scatter_1</td>\n",
       "      <td>wire</td>\n",
       "    </tr>\n",
       "    <tr>\n",
       "      <th>2</th>\n",
       "      <td>Bang Windah Bersaudara</td>\n",
       "      <td>Dinda Puspita</td>\n",
       "      <td>IDR</td>\n",
       "      <td>718.0</td>\n",
       "      <td>8.912334e+07</td>\n",
       "      <td>2022-08-07 09:23:00</td>\n",
       "      <td>gather-scatter_1</td>\n",
       "      <td>wire</td>\n",
       "    </tr>\n",
       "    <tr>\n",
       "      <th>3</th>\n",
       "      <td>Bang Windah Bersaudara</td>\n",
       "      <td>Sulastri</td>\n",
       "      <td>IDR</td>\n",
       "      <td>11.0</td>\n",
       "      <td>9.654125e+07</td>\n",
       "      <td>2022-08-08 11:24:00</td>\n",
       "      <td>gather-scatter_1</td>\n",
       "      <td>wire</td>\n",
       "    </tr>\n",
       "    <tr>\n",
       "      <th>4</th>\n",
       "      <td>Bang Windah Bersaudara</td>\n",
       "      <td>Dewi Lestari</td>\n",
       "      <td>IDR</td>\n",
       "      <td>0.0</td>\n",
       "      <td>8.163624e+07</td>\n",
       "      <td>2022-08-16 14:39:00</td>\n",
       "      <td>gather-scatter_1</td>\n",
       "      <td>wire</td>\n",
       "    </tr>\n",
       "    <tr>\n",
       "      <th>...</th>\n",
       "      <td>...</td>\n",
       "      <td>...</td>\n",
       "      <td>...</td>\n",
       "      <td>...</td>\n",
       "      <td>...</td>\n",
       "      <td>...</td>\n",
       "      <td>...</td>\n",
       "      <td>...</td>\n",
       "    </tr>\n",
       "    <tr>\n",
       "      <th>210</th>\n",
       "      <td>Tatang Supardi</td>\n",
       "      <td>Asep Wahyu</td>\n",
       "      <td>RM</td>\n",
       "      <td>2035.0</td>\n",
       "      <td>2.900000e+04</td>\n",
       "      <td>2022-08-27 15:04:00</td>\n",
       "      <td>fan-out_5</td>\n",
       "      <td>wire</td>\n",
       "    </tr>\n",
       "    <tr>\n",
       "      <th>211</th>\n",
       "      <td>Ujang Suryana</td>\n",
       "      <td>Asep Wahyu</td>\n",
       "      <td>IDR</td>\n",
       "      <td>13514.0</td>\n",
       "      <td>9.565582e+07</td>\n",
       "      <td>2022-08-28 10:06:00</td>\n",
       "      <td>fan-out_5</td>\n",
       "      <td>wire</td>\n",
       "    </tr>\n",
       "    <tr>\n",
       "      <th>212</th>\n",
       "      <td>Vivi Setiawati</td>\n",
       "      <td>Asep Wahyu</td>\n",
       "      <td>USD</td>\n",
       "      <td>43948.0</td>\n",
       "      <td>5.932057e+04</td>\n",
       "      <td>2022-08-28 17:23:00</td>\n",
       "      <td>fan-out_5</td>\n",
       "      <td>wire</td>\n",
       "    </tr>\n",
       "    <tr>\n",
       "      <th>213</th>\n",
       "      <td>Wawan Sopian</td>\n",
       "      <td>Asep Wahyu</td>\n",
       "      <td>RM</td>\n",
       "      <td>11469.0</td>\n",
       "      <td>2.900000e+04</td>\n",
       "      <td>2022-09-04 09:39:00</td>\n",
       "      <td>fan-out_5</td>\n",
       "      <td>wire</td>\n",
       "    </tr>\n",
       "    <tr>\n",
       "      <th>214</th>\n",
       "      <td>Xeni Sukri</td>\n",
       "      <td>Asep Wahyu</td>\n",
       "      <td>IDR</td>\n",
       "      <td>10057.0</td>\n",
       "      <td>8.571343e+07</td>\n",
       "      <td>2022-09-04 16:29:00</td>\n",
       "      <td>fan-out_5</td>\n",
       "      <td>wire</td>\n",
       "    </tr>\n",
       "  </tbody>\n",
       "</table>\n",
       "<p>215 rows × 8 columns</p>\n",
       "</div>"
      ],
      "text/plain": [
       "           RECEIVER_ACCOUNT SENDER_ACCOUNT CURRENCY    TX_ID     TX_AMOUNT  \\\n",
       "0    Bang Windah Bersaudara    Aliya Zahra      IDR      0.0  8.528834e+07   \n",
       "1    Bang Windah Bersaudara     Ratna Sari      IDR      3.0  9.974407e+07   \n",
       "2    Bang Windah Bersaudara  Dinda Puspita      IDR    718.0  8.912334e+07   \n",
       "3    Bang Windah Bersaudara       Sulastri      IDR     11.0  9.654125e+07   \n",
       "4    Bang Windah Bersaudara   Dewi Lestari      IDR      0.0  8.163624e+07   \n",
       "..                      ...            ...      ...      ...           ...   \n",
       "210          Tatang Supardi     Asep Wahyu       RM   2035.0  2.900000e+04   \n",
       "211           Ujang Suryana     Asep Wahyu      IDR  13514.0  9.565582e+07   \n",
       "212          Vivi Setiawati     Asep Wahyu      USD  43948.0  5.932057e+04   \n",
       "213            Wawan Sopian     Asep Wahyu       RM  11469.0  2.900000e+04   \n",
       "214              Xeni Sukri     Asep Wahyu      IDR  10057.0  8.571343e+07   \n",
       "\n",
       "               TIMESTAMP             ML_ID TX_TYPE  \n",
       "0    2022-08-01 11:40:00  gather-scatter_1    wire  \n",
       "1    2022-08-05 13:16:00  gather-scatter_1    wire  \n",
       "2    2022-08-07 09:23:00  gather-scatter_1    wire  \n",
       "3    2022-08-08 11:24:00  gather-scatter_1    wire  \n",
       "4    2022-08-16 14:39:00  gather-scatter_1    wire  \n",
       "..                   ...               ...     ...  \n",
       "210  2022-08-27 15:04:00         fan-out_5    wire  \n",
       "211  2022-08-28 10:06:00         fan-out_5    wire  \n",
       "212  2022-08-28 17:23:00         fan-out_5    wire  \n",
       "213  2022-09-04 09:39:00         fan-out_5    wire  \n",
       "214  2022-09-04 16:29:00         fan-out_5    wire  \n",
       "\n",
       "[215 rows x 8 columns]"
      ]
     },
     "execution_count": 30,
     "metadata": {},
     "output_type": "execute_result"
    }
   ],
   "source": [
    "final_relationship"
   ]
  },
  {
   "cell_type": "code",
   "execution_count": 18,
   "metadata": {},
   "outputs": [
    {
     "name": "stdout",
     "output_type": "stream",
     "text": [
      "siapa aja orang terlibt\n",
      "Kasus ini melibatkan 8 entitas. Namun, dari informasi yang diberikan, hanya satu nama yang disebutkan, yaitu \"enjang69\". Untuk mengetahui entitas lainnya, diperlukan informasi tambahan.\n"
     ]
    }
   ],
   "source": [
    "prompt='siapa aja orang terlibt'\n",
    "\n",
    "chat(prompt,chatbot)"
   ]
  },
  {
   "cell_type": "markdown",
   "metadata": {},
   "source": []
  },
  {
   "cell_type": "markdown",
   "metadata": {},
   "source": []
  },
  {
   "cell_type": "code",
   "execution_count": null,
   "metadata": {},
   "outputs": [],
   "source": []
  },
  {
   "cell_type": "code",
   "execution_count": 6,
   "metadata": {},
   "outputs": [
    {
     "name": "stdout",
     "output_type": "stream",
     "text": [
      "User: 1\n",
      "Assistant:  \n",
      "\n",
      "User: 2\n",
      "Assistant: 2024-06-05 15:16:51 - user: 1\n",
      "2024-06-05 15:16:51 - assistant: \n",
      " \n",
      "\n",
      "User: 3\n",
      "Assistant: 2024-06-05 15:16:51 - user: 1\n",
      "2024-06-05 15:16:51 - assistant: \n",
      "2024-06-05 15:16:54 - user: 2\n",
      "2024-06-05 15:16:54 - assistant: 2024-06-05 15:16:51 - user: 1\n",
      "2024-06-05 15:16:51 - assistant: \n",
      "\n",
      " \n",
      "\n",
      "             timestamp     sender  \\\n",
      "0  2024-06-05 15:16:51       user   \n",
      "1  2024-06-05 15:16:51  assistant   \n",
      "2  2024-06-05 15:16:54       user   \n",
      "3  2024-06-05 15:16:54  assistant   \n",
      "4  2024-06-05 15:16:58       user   \n",
      "5  2024-06-05 15:16:58  assistant   \n",
      "\n",
      "                                             message  \n",
      "0                                                  1  \n",
      "1                                                     \n",
      "2                                                  2  \n",
      "3  2024-06-05 15:16:51 - user: 1\\n2024-06-05 15:1...  \n",
      "4                                                  3  \n",
      "5  2024-06-05 15:16:51 - user: 1\\n2024-06-05 15:1...  \n"
     ]
    }
   ],
   "source": [
    "class History:\n",
    "    def __init__(self):\n",
    "        self.histories = {}\n",
    "\n",
    "    def create_chat(self, chat_id):\n",
    "        if chat_id not in self.histories:\n",
    "            self.histories[chat_id] = pd.DataFrame(columns=['timestamp', 'sender', 'message'])\n",
    "\n",
    "    def append_to_chat_history(self, chat_id, sender, message):\n",
    "        if chat_id not in self.histories:\n",
    "            self.create_chat(chat_id)\n",
    "        timestamp = datetime.now().strftime('%Y-%m-%d %H:%M:%S')\n",
    "        new_entry = pd.DataFrame([[timestamp, sender, message]], columns=['timestamp', 'sender', 'message'])\n",
    "        self.histories[chat_id] = pd.concat([self.histories[chat_id], new_entry], ignore_index=True)\n",
    "\n",
    "    def get_history(self, chat_id):\n",
    "        if chat_id in self.histories:\n",
    "            return self.histories[chat_id]\n",
    "        else:\n",
    "            return pd.DataFrame(columns=['timestamp', 'sender', 'message'])\n",
    "\n",
    "    def save_to_csv(self, chat_id, filename):\n",
    "        if chat_id in self.histories:\n",
    "            self.histories[chat_id].to_csv(filename, index=False)\n",
    "\n",
    "    def load_from_csv(self, chat_id, filename):\n",
    "        self.histories[chat_id] = pd.read_csv(filename)\n",
    "\n",
    "    def history_to_string(self, chat_id):\n",
    "        if chat_id in self.histories:\n",
    "            df = self.histories[chat_id]\n",
    "            history_string = \"\"\n",
    "            for index, row in df.iterrows():\n",
    "                history_string += f\"{row['timestamp']} - {row['sender']}: {row['message']}\\n\"\n",
    "            return history_string\n",
    "        else:\n",
    "            return \"\"\n",
    "        \n",
    "class Chatbot:\n",
    "    def __init__(self, ml_id):\n",
    "        self.history = History()\n",
    "        \n",
    "    def chat_with_model(self, prompt,chat_id, model='gpt-4o'):\n",
    "        chat_history_str = self.history.history_to_string(chat_id)\n",
    "        if chat_history_str: \n",
    "            chat_history_context= f'''Berikut perbincangan pada pesan sebelumnya: {chat_history_str}'''\n",
    "            # print(f'chat_history_str presents',chat_history_str)\n",
    "        else:\n",
    "            chat_history_context=''\n",
    "            # print(f'chat_history_str non existent')\n",
    "        system_prompt=f'''Kamu adalah asisten analis fraud dari Drovide Pivide. \n",
    "        Kamu menanggapi pertanyaan secara singkat, padat, dan jelas berdasarkan materi: \n",
    "        {retrieve_context_chatbot(ml_id)} dan pengetahuanmu tentang fraud di institusi finansial.\n",
    "        {chat_history_context}\n",
    "        '''\n",
    "        \n",
    "        completion = oai_client.chat.completions.create(\n",
    "            model=model,\n",
    "            temperature=0,\n",
    "            messages=[\n",
    "                {\"role\": \"system\", \"content\": system_prompt},\n",
    "                {\"role\": \"user\", \"content\": prompt}\n",
    "            ]\n",
    "        )\n",
    "        return chat_history_str #system_prompt #completion.choices[0].message.content.strip()\n",
    "\n",
    "    def add_message(self, chat_id, sender, message):\n",
    "        self.history.append_to_chat_history(chat_id, sender, message)\n",
    "\n",
    "    def start_conversation(self, user_id):\n",
    "        # Generate a unique chat_id based on user_id and current timestamp\n",
    "        chat_id = f\"{user_id}_{datetime.now().strftime('%Y%m%d%H%M%S')}\"\n",
    "        # self.add_message(chat_id, 'system', self.system_prompt)\n",
    "\n",
    "        while True:\n",
    "            user_input = input(\"You: \")\n",
    "            if user_input.lower() == 'exit':\n",
    "                break\n",
    "            print(f\"User: {user_input}\")\n",
    "\n",
    "            assistant_response = self.chat_with_model(user_input, chat_id)\n",
    "           \n",
    "            print(f\"Assistant: {assistant_response}\",'\\n')\n",
    "            \n",
    "            self.add_message(chat_id, 'user', user_input)\n",
    "            self.add_message(chat_id, 'assistant', assistant_response)\n",
    "\n",
    "        # Print the chat history at the end\n",
    "        print(self.history.get_history(chat_id))\n",
    "\n",
    "        # Optionally, save the chat history\n",
    "        self.history.save_to_csv(chat_id, f'chat_history_{chat_id}.csv')\n",
    "\n",
    "# Example usage\n",
    "user_id = 'enjang69'  \n",
    "\n",
    "ml_id='20240524-roundtrip-01'\n",
    "chatbot = Chatbot(ml_id)\n",
    "chatbot.start_conversation(user_id)"
   ]
  },
  {
   "cell_type": "code",
   "execution_count": null,
   "metadata": {},
   "outputs": [],
   "source": []
  },
  {
   "cell_type": "code",
   "execution_count": null,
   "metadata": {},
   "outputs": [],
   "source": []
  },
  {
   "cell_type": "code",
   "execution_count": 9,
   "metadata": {},
   "outputs": [
    {
     "name": "stderr",
     "output_type": "stream",
     "text": [
      "C:\\Users\\BNI\\AppData\\Local\\Temp\\ipykernel_6984\\758449357.py:77: DeprecationWarning: DataFrameGroupBy.apply operated on the grouping columns. This behavior is deprecated, and in a future version of pandas the grouping columns will be excluded from the operation. Either pass `include_groups=False` to exclude the groupings or explicitly select the grouping columns after groupby to silence this warning.\n",
      "  ml_cases = final_relationship.groupby(\"ML_ID\").apply(lambda group: pd.Series({\n"
     ]
    }
   ],
   "source": [
    "\n",
    "chat_history = pd.DataFrame(columns=['timestamp', 'sender', 'message'])"
   ]
  },
  {
   "cell_type": "code",
   "execution_count": null,
   "metadata": {},
   "outputs": [],
   "source": []
  }
 ],
 "metadata": {
  "kernelspec": {
   "display_name": "llm",
   "language": "python",
   "name": "python3"
  },
  "language_info": {
   "codemirror_mode": {
    "name": "ipython",
    "version": 3
   },
   "file_extension": ".py",
   "mimetype": "text/x-python",
   "name": "python",
   "nbconvert_exporter": "python",
   "pygments_lexer": "ipython3",
   "version": "3.11.5"
  }
 },
 "nbformat": 4,
 "nbformat_minor": 2
}
